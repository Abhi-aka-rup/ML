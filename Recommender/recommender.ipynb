{
 "cells": [
  {
   "cell_type": "code",
   "execution_count": 1,
   "metadata": {},
   "outputs": [],
   "source": [
    "import numpy as np\n",
    "import pandas as pd\n",
    "import matplotlib.pyplot as plt"
   ]
  },
  {
   "cell_type": "code",
   "execution_count": 2,
   "metadata": {},
   "outputs": [],
   "source": [
    "columns_names = ['user_id', 'item_id', 'rating', 'timestamp']"
   ]
  },
  {
   "cell_type": "code",
   "execution_count": 4,
   "metadata": {},
   "outputs": [],
   "source": [
    "df = pd.read_csv('u.data', sep='\\t', names=columns_names)"
   ]
  },
  {
   "cell_type": "code",
   "execution_count": 8,
   "metadata": {},
   "outputs": [],
   "source": [
    "movie_titles = pd.read_csv('Movie_Id_Titles')"
   ]
  },
  {
   "cell_type": "code",
   "execution_count": 9,
   "metadata": {},
   "outputs": [],
   "source": [
    "df = pd.merge(df,movie_titles, on='item_id')"
   ]
  },
  {
   "cell_type": "code",
   "execution_count": 16,
   "metadata": {
    "tags": []
   },
   "outputs": [
    {
     "output_type": "execute_result",
     "data": {
      "text/plain": "title\nStar Wars (1977)             583\nContact (1997)               509\nFargo (1996)                 508\nReturn of the Jedi (1983)    507\nLiar Liar (1997)             485\nName: rating, dtype: int64"
     },
     "metadata": {},
     "execution_count": 16
    }
   ],
   "source": [
    "df.groupby('title')['rating'].count().sort_values(ascending=False).head()"
   ]
  },
  {
   "cell_type": "code",
   "execution_count": 17,
   "metadata": {},
   "outputs": [],
   "source": [
    "rating = pd.DataFrame(df.groupby('title')['rating'].mean())"
   ]
  },
  {
   "cell_type": "code",
   "execution_count": 18,
   "metadata": {},
   "outputs": [
    {
     "output_type": "execute_result",
     "data": {
      "text/plain": "                             rating\ntitle                              \n'Til There Was You (1997)  2.333333\n1-900 (1994)               2.600000\n101 Dalmatians (1996)      2.908257\n12 Angry Men (1957)        4.344000\n187 (1997)                 3.024390",
      "text/html": "<div>\n<style scoped>\n    .dataframe tbody tr th:only-of-type {\n        vertical-align: middle;\n    }\n\n    .dataframe tbody tr th {\n        vertical-align: top;\n    }\n\n    .dataframe thead th {\n        text-align: right;\n    }\n</style>\n<table border=\"1\" class=\"dataframe\">\n  <thead>\n    <tr style=\"text-align: right;\">\n      <th></th>\n      <th>rating</th>\n    </tr>\n    <tr>\n      <th>title</th>\n      <th></th>\n    </tr>\n  </thead>\n  <tbody>\n    <tr>\n      <th>'Til There Was You (1997)</th>\n      <td>2.333333</td>\n    </tr>\n    <tr>\n      <th>1-900 (1994)</th>\n      <td>2.600000</td>\n    </tr>\n    <tr>\n      <th>101 Dalmatians (1996)</th>\n      <td>2.908257</td>\n    </tr>\n    <tr>\n      <th>12 Angry Men (1957)</th>\n      <td>4.344000</td>\n    </tr>\n    <tr>\n      <th>187 (1997)</th>\n      <td>3.024390</td>\n    </tr>\n  </tbody>\n</table>\n</div>"
     },
     "metadata": {},
     "execution_count": 18
    }
   ],
   "source": [
    "rating.head()"
   ]
  },
  {
   "cell_type": "code",
   "execution_count": 19,
   "metadata": {},
   "outputs": [],
   "source": [
    "rating['num of ratings'] = pd.DataFrame(df.groupby('title')['rating'].count())"
   ]
  },
  {
   "cell_type": "code",
   "execution_count": 20,
   "metadata": {},
   "outputs": [
    {
     "output_type": "execute_result",
     "data": {
      "text/plain": "                             rating  num of ratings\ntitle                                              \n'Til There Was You (1997)  2.333333               9\n1-900 (1994)               2.600000               5\n101 Dalmatians (1996)      2.908257             109\n12 Angry Men (1957)        4.344000             125\n187 (1997)                 3.024390              41",
      "text/html": "<div>\n<style scoped>\n    .dataframe tbody tr th:only-of-type {\n        vertical-align: middle;\n    }\n\n    .dataframe tbody tr th {\n        vertical-align: top;\n    }\n\n    .dataframe thead th {\n        text-align: right;\n    }\n</style>\n<table border=\"1\" class=\"dataframe\">\n  <thead>\n    <tr style=\"text-align: right;\">\n      <th></th>\n      <th>rating</th>\n      <th>num of ratings</th>\n    </tr>\n    <tr>\n      <th>title</th>\n      <th></th>\n      <th></th>\n    </tr>\n  </thead>\n  <tbody>\n    <tr>\n      <th>'Til There Was You (1997)</th>\n      <td>2.333333</td>\n      <td>9</td>\n    </tr>\n    <tr>\n      <th>1-900 (1994)</th>\n      <td>2.600000</td>\n      <td>5</td>\n    </tr>\n    <tr>\n      <th>101 Dalmatians (1996)</th>\n      <td>2.908257</td>\n      <td>109</td>\n    </tr>\n    <tr>\n      <th>12 Angry Men (1957)</th>\n      <td>4.344000</td>\n      <td>125</td>\n    </tr>\n    <tr>\n      <th>187 (1997)</th>\n      <td>3.024390</td>\n      <td>41</td>\n    </tr>\n  </tbody>\n</table>\n</div>"
     },
     "metadata": {},
     "execution_count": 20
    }
   ],
   "source": [
    "rating.head()"
   ]
  },
  {
   "cell_type": "code",
   "execution_count": 21,
   "metadata": {},
   "outputs": [],
   "source": [
    "moviemat = df.pivot_table(index='user_id', columns='title', values='rating')"
   ]
  },
  {
   "cell_type": "code",
   "execution_count": 24,
   "metadata": {},
   "outputs": [
    {
     "output_type": "execute_result",
     "data": {
      "text/plain": "                                 rating  num of ratings\ntitle                                                  \nStar Wars (1977)               4.358491             583\nContact (1997)                 3.803536             509\nFargo (1996)                   4.155512             508\nReturn of the Jedi (1983)      4.007890             507\nLiar Liar (1997)               3.156701             485\nEnglish Patient, The (1996)    3.656965             481\nScream (1996)                  3.441423             478\nToy Story (1995)               3.878319             452\nAir Force One (1997)           3.631090             431\nIndependence Day (ID4) (1996)  3.438228             429",
      "text/html": "<div>\n<style scoped>\n    .dataframe tbody tr th:only-of-type {\n        vertical-align: middle;\n    }\n\n    .dataframe tbody tr th {\n        vertical-align: top;\n    }\n\n    .dataframe thead th {\n        text-align: right;\n    }\n</style>\n<table border=\"1\" class=\"dataframe\">\n  <thead>\n    <tr style=\"text-align: right;\">\n      <th></th>\n      <th>rating</th>\n      <th>num of ratings</th>\n    </tr>\n    <tr>\n      <th>title</th>\n      <th></th>\n      <th></th>\n    </tr>\n  </thead>\n  <tbody>\n    <tr>\n      <th>Star Wars (1977)</th>\n      <td>4.358491</td>\n      <td>583</td>\n    </tr>\n    <tr>\n      <th>Contact (1997)</th>\n      <td>3.803536</td>\n      <td>509</td>\n    </tr>\n    <tr>\n      <th>Fargo (1996)</th>\n      <td>4.155512</td>\n      <td>508</td>\n    </tr>\n    <tr>\n      <th>Return of the Jedi (1983)</th>\n      <td>4.007890</td>\n      <td>507</td>\n    </tr>\n    <tr>\n      <th>Liar Liar (1997)</th>\n      <td>3.156701</td>\n      <td>485</td>\n    </tr>\n    <tr>\n      <th>English Patient, The (1996)</th>\n      <td>3.656965</td>\n      <td>481</td>\n    </tr>\n    <tr>\n      <th>Scream (1996)</th>\n      <td>3.441423</td>\n      <td>478</td>\n    </tr>\n    <tr>\n      <th>Toy Story (1995)</th>\n      <td>3.878319</td>\n      <td>452</td>\n    </tr>\n    <tr>\n      <th>Air Force One (1997)</th>\n      <td>3.631090</td>\n      <td>431</td>\n    </tr>\n    <tr>\n      <th>Independence Day (ID4) (1996)</th>\n      <td>3.438228</td>\n      <td>429</td>\n    </tr>\n  </tbody>\n</table>\n</div>"
     },
     "metadata": {},
     "execution_count": 24
    }
   ],
   "source": [
    "rating.sort_values('num of ratings', ascending=False).head(10)"
   ]
  },
  {
   "cell_type": "code",
   "execution_count": 26,
   "metadata": {},
   "outputs": [],
   "source": [
    "starwars_user_ratings = moviemat['Star Wars (1977)']\n",
    "liarliar_user_ratings = moviemat['Liar Liar (1997)']"
   ]
  },
  {
   "cell_type": "code",
   "execution_count": 27,
   "metadata": {},
   "outputs": [],
   "source": [
    "similar_to_starwars = moviemat.corrwith(starwars_user_ratings)\n",
    "similar_to_liarliar = moviemat.corrwith(liarliar_user_ratings)"
   ]
  },
  {
   "cell_type": "code",
   "execution_count": 28,
   "metadata": {},
   "outputs": [],
   "source": [
    "corr_starwars = pd.DataFrame(similar_to_starwars, columns=['Correlation'])\n",
    "corr_starwars.dropna(inplace=True)"
   ]
  },
  {
   "cell_type": "code",
   "execution_count": 30,
   "metadata": {},
   "outputs": [],
   "source": [
    "corr_starwars = corr_starwars.join(rating['num of ratings'])"
   ]
  },
  {
   "cell_type": "code",
   "execution_count": 33,
   "metadata": {},
   "outputs": [],
   "source": [
    "corr_liarliar = pd.DataFrame(similar_to_liarliar, columns=['Correlation'])\n",
    "corr_liarliar.dropna(inplace=True)"
   ]
  },
  {
   "cell_type": "code",
   "execution_count": 34,
   "metadata": {},
   "outputs": [],
   "source": [
    "corr_liarliar = corr_liarliar.join(rating['num of ratings'])"
   ]
  },
  {
   "cell_type": "code",
   "execution_count": null,
   "metadata": {},
   "outputs": [],
   "source": []
  }
 ],
 "metadata": {
  "language_info": {
   "codemirror_mode": {
    "name": "ipython",
    "version": 3
   },
   "file_extension": ".py",
   "mimetype": "text/x-python",
   "name": "python",
   "nbconvert_exporter": "python",
   "pygments_lexer": "ipython3",
   "version": "3.7.4-final"
  },
  "orig_nbformat": 2,
  "kernelspec": {
   "name": "python37464bit3f57dc6cb4cc4fa38f946046734a1127",
   "display_name": "Python 3.7.4 64-bit"
  }
 },
 "nbformat": 4,
 "nbformat_minor": 2
}