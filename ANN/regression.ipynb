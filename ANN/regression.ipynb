{
 "cells": [
  {
   "cell_type": "code",
   "execution_count": 26,
   "metadata": {},
   "outputs": [],
   "source": [
    "import pandas as pd\n",
    "import numpy as np\n",
    "import matplotlib.pyplot as plt"
   ]
  },
  {
   "cell_type": "code",
   "execution_count": 27,
   "metadata": {},
   "outputs": [],
   "source": [
    "df = pd.read_csv('fake_reg.csv')"
   ]
  },
  {
   "cell_type": "code",
   "execution_count": 28,
   "metadata": {},
   "outputs": [],
   "source": [
    "from sklearn.model_selection import train_test_split"
   ]
  },
  {
   "cell_type": "code",
   "execution_count": 29,
   "metadata": {},
   "outputs": [
    {
     "output_type": "execute_result",
     "data": {
      "text/plain": "        price     feature1     feature2\n0  461.527929   999.787558   999.766096\n1  548.130011   998.861615  1001.042403\n2  410.297162  1000.070267   998.844015\n3  540.382220   999.952251  1000.440940\n4  546.024553  1000.446011  1000.338531",
      "text/html": "<div>\n<style scoped>\n    .dataframe tbody tr th:only-of-type {\n        vertical-align: middle;\n    }\n\n    .dataframe tbody tr th {\n        vertical-align: top;\n    }\n\n    .dataframe thead th {\n        text-align: right;\n    }\n</style>\n<table border=\"1\" class=\"dataframe\">\n  <thead>\n    <tr style=\"text-align: right;\">\n      <th></th>\n      <th>price</th>\n      <th>feature1</th>\n      <th>feature2</th>\n    </tr>\n  </thead>\n  <tbody>\n    <tr>\n      <th>0</th>\n      <td>461.527929</td>\n      <td>999.787558</td>\n      <td>999.766096</td>\n    </tr>\n    <tr>\n      <th>1</th>\n      <td>548.130011</td>\n      <td>998.861615</td>\n      <td>1001.042403</td>\n    </tr>\n    <tr>\n      <th>2</th>\n      <td>410.297162</td>\n      <td>1000.070267</td>\n      <td>998.844015</td>\n    </tr>\n    <tr>\n      <th>3</th>\n      <td>540.382220</td>\n      <td>999.952251</td>\n      <td>1000.440940</td>\n    </tr>\n    <tr>\n      <th>4</th>\n      <td>546.024553</td>\n      <td>1000.446011</td>\n      <td>1000.338531</td>\n    </tr>\n  </tbody>\n</table>\n</div>"
     },
     "metadata": {},
     "execution_count": 29
    }
   ],
   "source": [
    "df.head()"
   ]
  },
  {
   "cell_type": "code",
   "execution_count": 30,
   "metadata": {},
   "outputs": [],
   "source": [
    "X = df[['feature1','feature2']].values"
   ]
  },
  {
   "cell_type": "code",
   "execution_count": 31,
   "metadata": {},
   "outputs": [],
   "source": [
    "y = df['price'].values"
   ]
  },
  {
   "cell_type": "code",
   "execution_count": 32,
   "metadata": {},
   "outputs": [],
   "source": [
    "X_train, X_test, y_train, y_test = train_test_split(X, y, test_size=0.3, random_state=42)"
   ]
  },
  {
   "cell_type": "code",
   "execution_count": 33,
   "metadata": {},
   "outputs": [],
   "source": [
    "from sklearn.preprocessing import MinMaxScaler"
   ]
  },
  {
   "cell_type": "code",
   "execution_count": 34,
   "metadata": {},
   "outputs": [],
   "source": [
    "scaler = MinMaxScaler()"
   ]
  },
  {
   "cell_type": "code",
   "execution_count": 35,
   "metadata": {},
   "outputs": [
    {
     "output_type": "execute_result",
     "data": {
      "text/plain": "MinMaxScaler()"
     },
     "metadata": {},
     "execution_count": 35
    }
   ],
   "source": [
    "scaler.fit(X_train)"
   ]
  },
  {
   "cell_type": "code",
   "execution_count": 36,
   "metadata": {},
   "outputs": [],
   "source": [
    "X_train = scaler.transform(X_train)"
   ]
  },
  {
   "cell_type": "code",
   "execution_count": 37,
   "metadata": {},
   "outputs": [],
   "source": [
    "X_test = scaler.transform(X_test)"
   ]
  },
  {
   "cell_type": "code",
   "execution_count": 38,
   "metadata": {},
   "outputs": [],
   "source": [
    "from tensorflow.keras.models import Sequential\n",
    "from tensorflow.keras.layers import Dense"
   ]
  },
  {
   "cell_type": "code",
   "execution_count": 39,
   "metadata": {
    "tags": []
   },
   "outputs": [],
   "source": [
    "model = Sequential()\n",
    "\n",
    "model.add(Dense(4, activation='relu'))\n",
    "model.add(Dense(2, activation='relu'))\n",
    "model.add(Dense(1))\n",
    "\n",
    "model.compile(optimizer='rmsprop', loss='mse')"
   ]
  },
  {
   "cell_type": "code",
   "execution_count": 41,
   "metadata": {
    "tags": [
     "outputPrepend"
    ]
   },
   "outputs": [
    {
     "output_type": "stream",
     "name": "stdout",
     "text": "p - loss: 55.7256\nEpoch 261/500\n22/22 [==============================] - 0s 6ms/step - loss: 54.4470\nEpoch 262/500\n22/22 [==============================] - 0s 4ms/step - loss: 52.8550\nEpoch 263/500\n22/22 [==============================] - 0s 4ms/step - loss: 51.6139\nEpoch 264/500\n22/22 [==============================] - 0s 4ms/step - loss: 50.4073\nEpoch 265/500\n22/22 [==============================] - 0s 4ms/step - loss: 49.2294\nEpoch 266/500\n22/22 [==============================] - 0s 3ms/step - loss: 47.9676\nEpoch 267/500\n22/22 [==============================] - 0s 3ms/step - loss: 46.5476\nEpoch 268/500\n22/22 [==============================] - 0s 4ms/step - loss: 45.5759\nEpoch 269/500\n22/22 [==============================] - 0s 3ms/step - loss: 44.4278\nEpoch 270/500\n22/22 [==============================] - 0s 3ms/step - loss: 43.3313\nEpoch 271/500\n22/22 [==============================] - 0s 3ms/step - loss: 42.2762\nEpoch 272/500\n22/22 [==============================] - 0s 2ms/step - loss: 40.9709\nEpoch 273/500\n22/22 [==============================] - 0s 3ms/step - loss: 40.0537\nEpoch 274/500\n22/22 [==============================] - 0s 3ms/step - loss: 39.0885\nEpoch 275/500\n22/22 [==============================] - 0s 4ms/step - loss: 38.0773\nEpoch 276/500\n22/22 [==============================] - 0s 4ms/step - loss: 37.5198\nEpoch 277/500\n22/22 [==============================] - 0s 3ms/step - loss: 36.6552\nEpoch 278/500\n22/22 [==============================] - 0s 3ms/step - loss: 35.9852\nEpoch 279/500\n22/22 [==============================] - 0s 3ms/step - loss: 35.2539\nEpoch 280/500\n22/22 [==============================] - 0s 3ms/step - loss: 34.5557\nEpoch 281/500\n22/22 [==============================] - 0s 3ms/step - loss: 33.9942\nEpoch 282/500\n22/22 [==============================] - 0s 4ms/step - loss: 33.4526\nEpoch 283/500\n22/22 [==============================] - 0s 3ms/step - loss: 32.9573\nEpoch 284/500\n22/22 [==============================] - 0s 3ms/step - loss: 32.3609\nEpoch 285/500\n22/22 [==============================] - 0s 3ms/step - loss: 31.8903\nEpoch 286/500\n22/22 [==============================] - 0s 3ms/step - loss: 31.4755\nEpoch 287/500\n22/22 [==============================] - 0s 4ms/step - loss: 30.9303\nEpoch 288/500\n22/22 [==============================] - 0s 3ms/step - loss: 30.5673\nEpoch 289/500\n22/22 [==============================] - 0s 3ms/step - loss: 30.2041\nEpoch 290/500\n22/22 [==============================] - 0s 3ms/step - loss: 29.8264\nEpoch 291/500\n22/22 [==============================] - 0s 3ms/step - loss: 29.4126\nEpoch 292/500\n22/22 [==============================] - 0s 2ms/step - loss: 29.0509\nEpoch 293/500\n22/22 [==============================] - 0s 3ms/step - loss: 28.5808\nEpoch 294/500\n22/22 [==============================] - 0s 3ms/step - loss: 28.5278\nEpoch 295/500\n22/22 [==============================] - 0s 3ms/step - loss: 28.1478\nEpoch 296/500\n22/22 [==============================] - 0s 2ms/step - loss: 27.7189\nEpoch 297/500\n22/22 [==============================] - 0s 2ms/step - loss: 27.5779\nEpoch 298/500\n22/22 [==============================] - 0s 2ms/step - loss: 27.3493\nEpoch 299/500\n22/22 [==============================] - 0s 3ms/step - loss: 27.0091\nEpoch 300/500\n22/22 [==============================] - 0s 2ms/step - loss: 26.8595\nEpoch 301/500\n22/22 [==============================] - 0s 2ms/step - loss: 26.6760\nEpoch 302/500\n22/22 [==============================] - 0s 2ms/step - loss: 26.5273\nEpoch 303/500\n22/22 [==============================] - 0s 2ms/step - loss: 26.1309\nEpoch 304/500\n22/22 [==============================] - 0s 2ms/step - loss: 26.1068\nEpoch 305/500\n22/22 [==============================] - 0s 2ms/step - loss: 25.9129\nEpoch 306/500\n22/22 [==============================] - 0s 2ms/step - loss: 25.8287\nEpoch 307/500\n22/22 [==============================] - 0s 2ms/step - loss: 25.7537\nEpoch 308/500\n22/22 [==============================] - 0s 3ms/step - loss: 25.5561\nEpoch 309/500\n22/22 [==============================] - 0s 2ms/step - loss: 25.3812\nEpoch 310/500\n22/22 [==============================] - 0s 2ms/step - loss: 25.3072\nEpoch 311/500\n22/22 [==============================] - 0s 2ms/step - loss: 25.2777\nEpoch 312/500\n22/22 [==============================] - 0s 2ms/step - loss: 25.1223\nEpoch 313/500\n22/22 [==============================] - 0s 2ms/step - loss: 25.0620\nEpoch 314/500\n22/22 [==============================] - 0s 2ms/step - loss: 24.9882\nEpoch 315/500\n22/22 [==============================] - 0s 3ms/step - loss: 24.9582\nEpoch 316/500\n22/22 [==============================] - 0s 7ms/step - loss: 24.8721\nEpoch 317/500\n22/22 [==============================] - 0s 3ms/step - loss: 24.7197\nEpoch 318/500\n22/22 [==============================] - 0s 4ms/step - loss: 24.7913\nEpoch 319/500\n22/22 [==============================] - 0s 3ms/step - loss: 24.6785\nEpoch 320/500\n22/22 [==============================] - 0s 5ms/step - loss: 24.5537\nEpoch 321/500\n22/22 [==============================] - 0s 3ms/step - loss: 24.5444\nEpoch 322/500\n22/22 [==============================] - 0s 3ms/step - loss: 24.4735\nEpoch 323/500\n22/22 [==============================] - 0s 3ms/step - loss: 24.3647\nEpoch 324/500\n22/22 [==============================] - 0s 3ms/step - loss: 24.4113\nEpoch 325/500\n22/22 [==============================] - 0s 3ms/step - loss: 24.3253\nEpoch 326/500\n22/22 [==============================] - 0s 3ms/step - loss: 24.4286\nEpoch 327/500\n22/22 [==============================] - 0s 3ms/step - loss: 24.3589\nEpoch 328/500\n22/22 [==============================] - 0s 3ms/step - loss: 24.3352\nEpoch 329/500\n22/22 [==============================] - 0s 3ms/step - loss: 24.3167\nEpoch 330/500\n22/22 [==============================] - 0s 5ms/step - loss: 24.0612\nEpoch 331/500\n22/22 [==============================] - 0s 3ms/step - loss: 24.3008\nEpoch 332/500\n22/22 [==============================] - 0s 2ms/step - loss: 24.1213\nEpoch 333/500\n22/22 [==============================] - 0s 2ms/step - loss: 24.2103\nEpoch 334/500\n22/22 [==============================] - 0s 3ms/step - loss: 24.0999\nEpoch 335/500\n22/22 [==============================] - 0s 3ms/step - loss: 24.2121\nEpoch 336/500\n22/22 [==============================] - 0s 2ms/step - loss: 24.1147\nEpoch 337/500\n22/22 [==============================] - 0s 3ms/step - loss: 24.0371\nEpoch 338/500\n22/22 [==============================] - 0s 3ms/step - loss: 24.0166\nEpoch 339/500\n22/22 [==============================] - 0s 3ms/step - loss: 24.1075\nEpoch 340/500\n22/22 [==============================] - 0s 3ms/step - loss: 24.1090\nEpoch 341/500\n22/22 [==============================] - 0s 3ms/step - loss: 23.9188\nEpoch 342/500\n22/22 [==============================] - 0s 4ms/step - loss: 24.0936\nEpoch 343/500\n22/22 [==============================] - 0s 3ms/step - loss: 23.9678\nEpoch 344/500\n22/22 [==============================] - 0s 4ms/step - loss: 23.9479\nEpoch 345/500\n22/22 [==============================] - 0s 3ms/step - loss: 24.0248\nEpoch 346/500\n22/22 [==============================] - 0s 5ms/step - loss: 24.0011\nEpoch 347/500\n22/22 [==============================] - 0s 3ms/step - loss: 23.9076\nEpoch 348/500\n22/22 [==============================] - 0s 3ms/step - loss: 23.8956\nEpoch 349/500\n22/22 [==============================] - 0s 2ms/step - loss: 23.9639\nEpoch 350/500\n22/22 [==============================] - 0s 3ms/step - loss: 23.9286\nEpoch 351/500\n22/22 [==============================] - 0s 2ms/step - loss: 24.0161\nEpoch 352/500\n22/22 [==============================] - 0s 2ms/step - loss: 23.9210\nEpoch 353/500\n22/22 [==============================] - 0s 3ms/step - loss: 24.0140\nEpoch 354/500\n22/22 [==============================] - 0s 3ms/step - loss: 23.9713\nEpoch 355/500\n22/22 [==============================] - 0s 3ms/step - loss: 23.9472\nEpoch 356/500\n22/22 [==============================] - 0s 2ms/step - loss: 23.9554\nEpoch 357/500\n22/22 [==============================] - 0s 5ms/step - loss: 24.0053\nEpoch 358/500\n22/22 [==============================] - 0s 3ms/step - loss: 23.6815\nEpoch 359/500\n22/22 [==============================] - 0s 2ms/step - loss: 23.9551\nEpoch 360/500\n22/22 [==============================] - 0s 2ms/step - loss: 24.0269\nEpoch 361/500\n22/22 [==============================] - 0s 3ms/step - loss: 23.9169\nEpoch 362/500\n22/22 [==============================] - 0s 3ms/step - loss: 23.9469\nEpoch 363/500\n22/22 [==============================] - 0s 4ms/step - loss: 23.9575\nEpoch 364/500\n22/22 [==============================] - 0s 3ms/step - loss: 23.9935\nEpoch 365/500\n22/22 [==============================] - 0s 3ms/step - loss: 23.9003\nEpoch 366/500\n22/22 [==============================] - 0s 3ms/step - loss: 23.8735\nEpoch 367/500\n22/22 [==============================] - 0s 3ms/step - loss: 24.0275\nEpoch 368/500\n22/22 [==============================] - 0s 3ms/step - loss: 23.9040\nEpoch 369/500\n22/22 [==============================] - 0s 3ms/step - loss: 23.8642\nEpoch 370/500\n22/22 [==============================] - 0s 3ms/step - loss: 23.8844\nEpoch 371/500\n22/22 [==============================] - 0s 3ms/step - loss: 23.9409\nEpoch 372/500\n22/22 [==============================] - 0s 3ms/step - loss: 23.8954\nEpoch 373/500\n22/22 [==============================] - 0s 3ms/step - loss: 23.8645\nEpoch 374/500\n22/22 [==============================] - 0s 3ms/step - loss: 23.8434\nEpoch 375/500\n22/22 [==============================] - 0s 4ms/step - loss: 23.8649\nEpoch 376/500\n22/22 [==============================] - 0s 3ms/step - loss: 23.9022\nEpoch 377/500\n22/22 [==============================] - 0s 3ms/step - loss: 23.8948\nEpoch 378/500\n22/22 [==============================] - 0s 3ms/step - loss: 23.8971\nEpoch 379/500\n22/22 [==============================] - 0s 4ms/step - loss: 23.8985\nEpoch 380/500\n22/22 [==============================] - 0s 2ms/step - loss: 23.8902\nEpoch 381/500\n22/22 [==============================] - 0s 2ms/step - loss: 23.8675\nEpoch 382/500\n22/22 [==============================] - 0s 3ms/step - loss: 23.8008\nEpoch 383/500\n22/22 [==============================] - 0s 3ms/step - loss: 23.8587\nEpoch 384/500\n22/22 [==============================] - 0s 3ms/step - loss: 23.9240\nEpoch 385/500\n22/22 [==============================] - 0s 3ms/step - loss: 23.8498\nEpoch 386/500\n22/22 [==============================] - 0s 3ms/step - loss: 23.8819\nEpoch 387/500\n22/22 [==============================] - 0s 3ms/step - loss: 23.8689\nEpoch 388/500\n22/22 [==============================] - 0s 3ms/step - loss: 23.9049\nEpoch 389/500\n22/22 [==============================] - 0s 3ms/step - loss: 23.8719\nEpoch 390/500\n22/22 [==============================] - 0s 3ms/step - loss: 23.7946\nEpoch 391/500\n22/22 [==============================] - 0s 2ms/step - loss: 23.8503\nEpoch 392/500\n22/22 [==============================] - 0s 2ms/step - loss: 23.9368\nEpoch 393/500\n22/22 [==============================] - 0s 3ms/step - loss: 23.8740\nEpoch 394/500\n22/22 [==============================] - 0s 3ms/step - loss: 23.9012\nEpoch 395/500\n22/22 [==============================] - 0s 2ms/step - loss: 23.8140\nEpoch 396/500\n22/22 [==============================] - 0s 3ms/step - loss: 23.8023\nEpoch 397/500\n22/22 [==============================] - 0s 3ms/step - loss: 23.9976\nEpoch 398/500\n22/22 [==============================] - 0s 3ms/step - loss: 23.8746\nEpoch 399/500\n22/22 [==============================] - 0s 3ms/step - loss: 23.8215\nEpoch 400/500\n22/22 [==============================] - 0s 2ms/step - loss: 23.7806\nEpoch 401/500\n22/22 [==============================] - 0s 3ms/step - loss: 23.9536\nEpoch 402/500\n22/22 [==============================] - 0s 3ms/step - loss: 23.7979\nEpoch 403/500\n22/22 [==============================] - 0s 4ms/step - loss: 23.9866\nEpoch 404/500\n22/22 [==============================] - 0s 3ms/step - loss: 23.8500\nEpoch 405/500\n22/22 [==============================] - 0s 3ms/step - loss: 23.8438\nEpoch 406/500\n22/22 [==============================] - 0s 3ms/step - loss: 23.9284\nEpoch 407/500\n22/22 [==============================] - 0s 3ms/step - loss: 23.7731\nEpoch 408/500\n22/22 [==============================] - 0s 3ms/step - loss: 23.9723\nEpoch 409/500\n22/22 [==============================] - 0s 3ms/step - loss: 23.8696\nEpoch 410/500\n22/22 [==============================] - 0s 3ms/step - loss: 23.7876\nEpoch 411/500\n22/22 [==============================] - 0s 3ms/step - loss: 23.9252\nEpoch 412/500\n22/22 [==============================] - 0s 3ms/step - loss: 23.9539\nEpoch 413/500\n22/22 [==============================] - 0s 4ms/step - loss: 23.6808\nEpoch 414/500\n22/22 [==============================] - 0s 5ms/step - loss: 23.9625\nEpoch 415/500\n22/22 [==============================] - 0s 4ms/step - loss: 23.9531\nEpoch 416/500\n22/22 [==============================] - 0s 4ms/step - loss: 23.9290\nEpoch 417/500\n22/22 [==============================] - 0s 2ms/step - loss: 23.8682\nEpoch 418/500\n22/22 [==============================] - 0s 3ms/step - loss: 23.9476\nEpoch 419/500\n22/22 [==============================] - 0s 2ms/step - loss: 23.8292\nEpoch 420/500\n22/22 [==============================] - 0s 3ms/step - loss: 23.9362\nEpoch 421/500\n22/22 [==============================] - 0s 4ms/step - loss: 23.8512\nEpoch 422/500\n22/22 [==============================] - 0s 5ms/step - loss: 23.8438\nEpoch 423/500\n22/22 [==============================] - 0s 3ms/step - loss: 23.9528\nEpoch 424/500\n22/22 [==============================] - 0s 3ms/step - loss: 23.8942\nEpoch 425/500\n22/22 [==============================] - 0s 3ms/step - loss: 23.8369\nEpoch 426/500\n22/22 [==============================] - 0s 3ms/step - loss: 23.9775\nEpoch 427/500\n22/22 [==============================] - 0s 4ms/step - loss: 23.8544\nEpoch 428/500\n22/22 [==============================] - 0s 3ms/step - loss: 23.9094\nEpoch 429/500\n22/22 [==============================] - 0s 3ms/step - loss: 23.8060\nEpoch 430/500\n22/22 [==============================] - 0s 3ms/step - loss: 23.8680\nEpoch 431/500\n22/22 [==============================] - 0s 2ms/step - loss: 23.8516\nEpoch 432/500\n22/22 [==============================] - 0s 3ms/step - loss: 23.9117\nEpoch 433/500\n22/22 [==============================] - 0s 3ms/step - loss: 23.8503\nEpoch 434/500\n22/22 [==============================] - 0s 3ms/step - loss: 23.8661\nEpoch 435/500\n22/22 [==============================] - 0s 3ms/step - loss: 23.8378\nEpoch 436/500\n22/22 [==============================] - 0s 3ms/step - loss: 23.8890\nEpoch 437/500\n22/22 [==============================] - 0s 4ms/step - loss: 23.7523\nEpoch 438/500\n22/22 [==============================] - 0s 4ms/step - loss: 23.8367\nEpoch 439/500\n22/22 [==============================] - 0s 3ms/step - loss: 23.8602\nEpoch 440/500\n22/22 [==============================] - 0s 4ms/step - loss: 23.8687\nEpoch 441/500\n22/22 [==============================] - 0s 4ms/step - loss: 23.7890\nEpoch 442/500\n22/22 [==============================] - 0s 4ms/step - loss: 23.8819\nEpoch 443/500\n22/22 [==============================] - 0s 3ms/step - loss: 23.8561\nEpoch 444/500\n22/22 [==============================] - 0s 4ms/step - loss: 23.8558\nEpoch 445/500\n20/22 [==========================>...] - ETA: 0s - loss: 23.5622/22 [==============================] - 0s 3ms/step - loss: 23.8870\nEpoch 446/500\n22/22 [==============================] - 0s 3ms/step - loss: 23.8931\nEpoch 447/500\n22/22 [==============================] - 0s 3ms/step - loss: 23.8213\nEpoch 448/500\n22/22 [==============================] - 0s 3ms/step - loss: 23.7722\nEpoch 449/500\n22/22 [==============================] - 0s 3ms/step - loss: 23.9711\nEpoch 450/500\n22/22 [==============================] - 0s 3ms/step - loss: 23.8467\nEpoch 451/500\n22/22 [==============================] - 0s 4ms/step - loss: 23.9341\nEpoch 452/500\n22/22 [==============================] - 0s 3ms/step - loss: 23.8519\nEpoch 453/500\n22/22 [==============================] - 0s 3ms/step - loss: 23.9074\nEpoch 454/500\n22/22 [==============================] - 0s 2ms/step - loss: 23.8555\nEpoch 455/500\n22/22 [==============================] - 0s 3ms/step - loss: 23.8041\nEpoch 456/500\n22/22 [==============================] - 0s 3ms/step - loss: 23.9327\nEpoch 457/500\n22/22 [==============================] - 0s 3ms/step - loss: 23.7950\nEpoch 458/500\n22/22 [==============================] - 0s 4ms/step - loss: 23.8755\nEpoch 459/500\n22/22 [==============================] - 0s 3ms/step - loss: 23.6402\nEpoch 460/500\n22/22 [==============================] - 0s 2ms/step - loss: 23.8499\nEpoch 461/500\n22/22 [==============================] - 0s 2ms/step - loss: 23.6795\nEpoch 462/500\n22/22 [==============================] - 0s 3ms/step - loss: 24.0761\nEpoch 463/500\n22/22 [==============================] - 0s 2ms/step - loss: 23.8796\nEpoch 464/500\n22/22 [==============================] - 0s 3ms/step - loss: 23.7934\nEpoch 465/500\n22/22 [==============================] - 0s 2ms/step - loss: 23.8754\nEpoch 466/500\n22/22 [==============================] - 0s 2ms/step - loss: 23.8771\nEpoch 467/500\n22/22 [==============================] - 0s 4ms/step - loss: 23.8174\nEpoch 468/500\n22/22 [==============================] - 0s 4ms/step - loss: 23.8461\nEpoch 469/500\n22/22 [==============================] - 0s 4ms/step - loss: 23.9185\nEpoch 470/500\n22/22 [==============================] - 0s 3ms/step - loss: 23.9096\nEpoch 471/500\n22/22 [==============================] - 0s 4ms/step - loss: 23.8067\nEpoch 472/500\n22/22 [==============================] - 0s 3ms/step - loss: 23.7434\nEpoch 473/500\n22/22 [==============================] - 0s 4ms/step - loss: 23.8906\nEpoch 474/500\n22/22 [==============================] - 0s 3ms/step - loss: 23.8819\nEpoch 475/500\n22/22 [==============================] - 0s 4ms/step - loss: 23.8908\nEpoch 476/500\n22/22 [==============================] - 0s 4ms/step - loss: 23.8575\nEpoch 477/500\n22/22 [==============================] - 0s 3ms/step - loss: 23.8427\nEpoch 478/500\n22/22 [==============================] - 0s 3ms/step - loss: 23.8627\nEpoch 479/500\n22/22 [==============================] - 0s 3ms/step - loss: 23.9021\nEpoch 480/500\n22/22 [==============================] - 0s 3ms/step - loss: 23.9390\nEpoch 481/500\n22/22 [==============================] - 0s 3ms/step - loss: 23.7537\nEpoch 482/500\n22/22 [==============================] - 0s 3ms/step - loss: 23.9395\nEpoch 483/500\n22/22 [==============================] - 0s 3ms/step - loss: 23.8111\nEpoch 484/500\n22/22 [==============================] - 0s 3ms/step - loss: 23.8797\nEpoch 485/500\n22/22 [==============================] - 0s 4ms/step - loss: 23.8195\nEpoch 486/500\n22/22 [==============================] - 0s 4ms/step - loss: 23.7914\nEpoch 487/500\n22/22 [==============================] - 0s 4ms/step - loss: 23.8610\nEpoch 488/500\n22/22 [==============================] - 0s 3ms/step - loss: 23.9334\nEpoch 489/500\n22/22 [==============================] - 0s 3ms/step - loss: 23.8967\nEpoch 490/500\n22/22 [==============================] - 0s 3ms/step - loss: 23.8542\nEpoch 491/500\n22/22 [==============================] - 0s 3ms/step - loss: 23.8094\nEpoch 492/500\n22/22 [==============================] - 0s 4ms/step - loss: 23.8773\nEpoch 493/500\n22/22 [==============================] - 0s 5ms/step - loss: 23.8738\nEpoch 494/500\n22/22 [==============================] - 0s 3ms/step - loss: 23.8615\nEpoch 495/500\n22/22 [==============================] - 0s 7ms/step - loss: 23.8041\nEpoch 496/500\n22/22 [==============================] - 0s 4ms/step - loss: 23.8479\nEpoch 497/500\n22/22 [==============================] - 0s 4ms/step - loss: 23.8567\nEpoch 498/500\n22/22 [==============================] - 0s 3ms/step - loss: 23.7759\nEpoch 499/500\n22/22 [==============================] - 0s 3ms/step - loss: 23.8852\nEpoch 500/500\n22/22 [==============================] - 0s 2ms/step - loss: 23.7951\n"
    },
    {
     "output_type": "execute_result",
     "data": {
      "text/plain": "<tensorflow.python.keras.callbacks.History at 0x277427bf148>"
     },
     "metadata": {},
     "execution_count": 41
    }
   ],
   "source": [
    "model.fit(x=X_train, y=y_train, epochs=500)"
   ]
  },
  {
   "cell_type": "code",
   "execution_count": 42,
   "metadata": {},
   "outputs": [],
   "source": [
    "loss_df = pd.DataFrame(model.history.history)"
   ]
  },
  {
   "cell_type": "code",
   "execution_count": 43,
   "metadata": {},
   "outputs": [
    {
     "output_type": "execute_result",
     "data": {
      "text/plain": "<matplotlib.axes._subplots.AxesSubplot at 0x27742729488>"
     },
     "metadata": {},
     "execution_count": 43
    },
    {
     "output_type": "display_data",
     "data": {
      "text/plain": "<Figure size 432x288 with 1 Axes>",
      "image/svg+xml": "<?xml version=\"1.0\" encoding=\"utf-8\" standalone=\"no\"?>\r\n<!DOCTYPE svg PUBLIC \"-//W3C//DTD SVG 1.1//EN\"\r\n  \"http://www.w3.org/Graphics/SVG/1.1/DTD/svg11.dtd\">\r\n<!-- Created with matplotlib (https://matplotlib.org/) -->\r\n<svg height=\"248.518125pt\" version=\"1.1\" viewBox=\"0 0 381.65 248.518125\" width=\"381.65pt\" xmlns=\"http://www.w3.org/2000/svg\" xmlns:xlink=\"http://www.w3.org/1999/xlink\">\r\n <defs>\r\n  <style type=\"text/css\">\r\n*{stroke-linecap:butt;stroke-linejoin:round;}\r\n  </style>\r\n </defs>\r\n <g id=\"figure_1\">\r\n  <g id=\"patch_1\">\r\n   <path d=\"M -0 248.518125 \r\nL 381.65 248.518125 \r\nL 381.65 0 \r\nL -0 0 \r\nz\r\n\" style=\"fill:none;\"/>\r\n  </g>\r\n  <g id=\"axes_1\">\r\n   <g id=\"patch_2\">\r\n    <path d=\"M 39.65 224.64 \r\nL 374.45 224.64 \r\nL 374.45 7.2 \r\nL 39.65 7.2 \r\nz\r\n\" style=\"fill:#ffffff;\"/>\r\n   </g>\r\n   <g id=\"matplotlib.axis_1\">\r\n    <g id=\"xtick_1\">\r\n     <g id=\"line2d_1\">\r\n      <defs>\r\n       <path d=\"M 0 0 \r\nL 0 3.5 \r\n\" id=\"m79073dfb84\" style=\"stroke:#000000;stroke-width:0.8;\"/>\r\n      </defs>\r\n      <g>\r\n       <use style=\"stroke:#000000;stroke-width:0.8;\" x=\"54.868182\" xlink:href=\"#m79073dfb84\" y=\"224.64\"/>\r\n      </g>\r\n     </g>\r\n     <g id=\"text_1\">\r\n      <!-- 0 -->\r\n      <defs>\r\n       <path d=\"M 31.78125 66.40625 \r\nQ 24.171875 66.40625 20.328125 58.90625 \r\nQ 16.5 51.421875 16.5 36.375 \r\nQ 16.5 21.390625 20.328125 13.890625 \r\nQ 24.171875 6.390625 31.78125 6.390625 \r\nQ 39.453125 6.390625 43.28125 13.890625 \r\nQ 47.125 21.390625 47.125 36.375 \r\nQ 47.125 51.421875 43.28125 58.90625 \r\nQ 39.453125 66.40625 31.78125 66.40625 \r\nz\r\nM 31.78125 74.21875 \r\nQ 44.046875 74.21875 50.515625 64.515625 \r\nQ 56.984375 54.828125 56.984375 36.375 \r\nQ 56.984375 17.96875 50.515625 8.265625 \r\nQ 44.046875 -1.421875 31.78125 -1.421875 \r\nQ 19.53125 -1.421875 13.0625 8.265625 \r\nQ 6.59375 17.96875 6.59375 36.375 \r\nQ 6.59375 54.828125 13.0625 64.515625 \r\nQ 19.53125 74.21875 31.78125 74.21875 \r\nz\r\n\" id=\"DejaVuSans-48\"/>\r\n      </defs>\r\n      <g transform=\"translate(51.686932 239.238437)scale(0.1 -0.1)\">\r\n       <use xlink:href=\"#DejaVuSans-48\"/>\r\n      </g>\r\n     </g>\r\n    </g>\r\n    <g id=\"xtick_2\">\r\n     <g id=\"line2d_2\">\r\n      <g>\r\n       <use style=\"stroke:#000000;stroke-width:0.8;\" x=\"115.862899\" xlink:href=\"#m79073dfb84\" y=\"224.64\"/>\r\n      </g>\r\n     </g>\r\n     <g id=\"text_2\">\r\n      <!-- 100 -->\r\n      <defs>\r\n       <path d=\"M 12.40625 8.296875 \r\nL 28.515625 8.296875 \r\nL 28.515625 63.921875 \r\nL 10.984375 60.40625 \r\nL 10.984375 69.390625 \r\nL 28.421875 72.90625 \r\nL 38.28125 72.90625 \r\nL 38.28125 8.296875 \r\nL 54.390625 8.296875 \r\nL 54.390625 0 \r\nL 12.40625 0 \r\nz\r\n\" id=\"DejaVuSans-49\"/>\r\n      </defs>\r\n      <g transform=\"translate(106.319149 239.238437)scale(0.1 -0.1)\">\r\n       <use xlink:href=\"#DejaVuSans-49\"/>\r\n       <use x=\"63.623047\" xlink:href=\"#DejaVuSans-48\"/>\r\n       <use x=\"127.246094\" xlink:href=\"#DejaVuSans-48\"/>\r\n      </g>\r\n     </g>\r\n    </g>\r\n    <g id=\"xtick_3\">\r\n     <g id=\"line2d_3\">\r\n      <g>\r\n       <use style=\"stroke:#000000;stroke-width:0.8;\" x=\"176.857615\" xlink:href=\"#m79073dfb84\" y=\"224.64\"/>\r\n      </g>\r\n     </g>\r\n     <g id=\"text_3\">\r\n      <!-- 200 -->\r\n      <defs>\r\n       <path d=\"M 19.1875 8.296875 \r\nL 53.609375 8.296875 \r\nL 53.609375 0 \r\nL 7.328125 0 \r\nL 7.328125 8.296875 \r\nQ 12.9375 14.109375 22.625 23.890625 \r\nQ 32.328125 33.6875 34.8125 36.53125 \r\nQ 39.546875 41.84375 41.421875 45.53125 \r\nQ 43.3125 49.21875 43.3125 52.78125 \r\nQ 43.3125 58.59375 39.234375 62.25 \r\nQ 35.15625 65.921875 28.609375 65.921875 \r\nQ 23.96875 65.921875 18.8125 64.3125 \r\nQ 13.671875 62.703125 7.8125 59.421875 \r\nL 7.8125 69.390625 \r\nQ 13.765625 71.78125 18.9375 73 \r\nQ 24.125 74.21875 28.421875 74.21875 \r\nQ 39.75 74.21875 46.484375 68.546875 \r\nQ 53.21875 62.890625 53.21875 53.421875 \r\nQ 53.21875 48.921875 51.53125 44.890625 \r\nQ 49.859375 40.875 45.40625 35.40625 \r\nQ 44.1875 33.984375 37.640625 27.21875 \r\nQ 31.109375 20.453125 19.1875 8.296875 \r\nz\r\n\" id=\"DejaVuSans-50\"/>\r\n      </defs>\r\n      <g transform=\"translate(167.313865 239.238437)scale(0.1 -0.1)\">\r\n       <use xlink:href=\"#DejaVuSans-50\"/>\r\n       <use x=\"63.623047\" xlink:href=\"#DejaVuSans-48\"/>\r\n       <use x=\"127.246094\" xlink:href=\"#DejaVuSans-48\"/>\r\n      </g>\r\n     </g>\r\n    </g>\r\n    <g id=\"xtick_4\">\r\n     <g id=\"line2d_4\">\r\n      <g>\r\n       <use style=\"stroke:#000000;stroke-width:0.8;\" x=\"237.852332\" xlink:href=\"#m79073dfb84\" y=\"224.64\"/>\r\n      </g>\r\n     </g>\r\n     <g id=\"text_4\">\r\n      <!-- 300 -->\r\n      <defs>\r\n       <path d=\"M 40.578125 39.3125 \r\nQ 47.65625 37.796875 51.625 33 \r\nQ 55.609375 28.21875 55.609375 21.1875 \r\nQ 55.609375 10.40625 48.1875 4.484375 \r\nQ 40.765625 -1.421875 27.09375 -1.421875 \r\nQ 22.515625 -1.421875 17.65625 -0.515625 \r\nQ 12.796875 0.390625 7.625 2.203125 \r\nL 7.625 11.71875 \r\nQ 11.71875 9.328125 16.59375 8.109375 \r\nQ 21.484375 6.890625 26.8125 6.890625 \r\nQ 36.078125 6.890625 40.9375 10.546875 \r\nQ 45.796875 14.203125 45.796875 21.1875 \r\nQ 45.796875 27.640625 41.28125 31.265625 \r\nQ 36.765625 34.90625 28.71875 34.90625 \r\nL 20.21875 34.90625 \r\nL 20.21875 43.015625 \r\nL 29.109375 43.015625 \r\nQ 36.375 43.015625 40.234375 45.921875 \r\nQ 44.09375 48.828125 44.09375 54.296875 \r\nQ 44.09375 59.90625 40.109375 62.90625 \r\nQ 36.140625 65.921875 28.71875 65.921875 \r\nQ 24.65625 65.921875 20.015625 65.03125 \r\nQ 15.375 64.15625 9.8125 62.3125 \r\nL 9.8125 71.09375 \r\nQ 15.4375 72.65625 20.34375 73.4375 \r\nQ 25.25 74.21875 29.59375 74.21875 \r\nQ 40.828125 74.21875 47.359375 69.109375 \r\nQ 53.90625 64.015625 53.90625 55.328125 \r\nQ 53.90625 49.265625 50.4375 45.09375 \r\nQ 46.96875 40.921875 40.578125 39.3125 \r\nz\r\n\" id=\"DejaVuSans-51\"/>\r\n      </defs>\r\n      <g transform=\"translate(228.308582 239.238437)scale(0.1 -0.1)\">\r\n       <use xlink:href=\"#DejaVuSans-51\"/>\r\n       <use x=\"63.623047\" xlink:href=\"#DejaVuSans-48\"/>\r\n       <use x=\"127.246094\" xlink:href=\"#DejaVuSans-48\"/>\r\n      </g>\r\n     </g>\r\n    </g>\r\n    <g id=\"xtick_5\">\r\n     <g id=\"line2d_5\">\r\n      <g>\r\n       <use style=\"stroke:#000000;stroke-width:0.8;\" x=\"298.847049\" xlink:href=\"#m79073dfb84\" y=\"224.64\"/>\r\n      </g>\r\n     </g>\r\n     <g id=\"text_5\">\r\n      <!-- 400 -->\r\n      <defs>\r\n       <path d=\"M 37.796875 64.3125 \r\nL 12.890625 25.390625 \r\nL 37.796875 25.390625 \r\nz\r\nM 35.203125 72.90625 \r\nL 47.609375 72.90625 \r\nL 47.609375 25.390625 \r\nL 58.015625 25.390625 \r\nL 58.015625 17.1875 \r\nL 47.609375 17.1875 \r\nL 47.609375 0 \r\nL 37.796875 0 \r\nL 37.796875 17.1875 \r\nL 4.890625 17.1875 \r\nL 4.890625 26.703125 \r\nz\r\n\" id=\"DejaVuSans-52\"/>\r\n      </defs>\r\n      <g transform=\"translate(289.303299 239.238437)scale(0.1 -0.1)\">\r\n       <use xlink:href=\"#DejaVuSans-52\"/>\r\n       <use x=\"63.623047\" xlink:href=\"#DejaVuSans-48\"/>\r\n       <use x=\"127.246094\" xlink:href=\"#DejaVuSans-48\"/>\r\n      </g>\r\n     </g>\r\n    </g>\r\n    <g id=\"xtick_6\">\r\n     <g id=\"line2d_6\">\r\n      <g>\r\n       <use style=\"stroke:#000000;stroke-width:0.8;\" x=\"359.841765\" xlink:href=\"#m79073dfb84\" y=\"224.64\"/>\r\n      </g>\r\n     </g>\r\n     <g id=\"text_6\">\r\n      <!-- 500 -->\r\n      <defs>\r\n       <path d=\"M 10.796875 72.90625 \r\nL 49.515625 72.90625 \r\nL 49.515625 64.59375 \r\nL 19.828125 64.59375 \r\nL 19.828125 46.734375 \r\nQ 21.96875 47.46875 24.109375 47.828125 \r\nQ 26.265625 48.1875 28.421875 48.1875 \r\nQ 40.625 48.1875 47.75 41.5 \r\nQ 54.890625 34.8125 54.890625 23.390625 \r\nQ 54.890625 11.625 47.5625 5.09375 \r\nQ 40.234375 -1.421875 26.90625 -1.421875 \r\nQ 22.3125 -1.421875 17.546875 -0.640625 \r\nQ 12.796875 0.140625 7.71875 1.703125 \r\nL 7.71875 11.625 \r\nQ 12.109375 9.234375 16.796875 8.0625 \r\nQ 21.484375 6.890625 26.703125 6.890625 \r\nQ 35.15625 6.890625 40.078125 11.328125 \r\nQ 45.015625 15.765625 45.015625 23.390625 \r\nQ 45.015625 31 40.078125 35.4375 \r\nQ 35.15625 39.890625 26.703125 39.890625 \r\nQ 22.75 39.890625 18.8125 39.015625 \r\nQ 14.890625 38.140625 10.796875 36.28125 \r\nz\r\n\" id=\"DejaVuSans-53\"/>\r\n      </defs>\r\n      <g transform=\"translate(350.298015 239.238437)scale(0.1 -0.1)\">\r\n       <use xlink:href=\"#DejaVuSans-53\"/>\r\n       <use x=\"63.623047\" xlink:href=\"#DejaVuSans-48\"/>\r\n       <use x=\"127.246094\" xlink:href=\"#DejaVuSans-48\"/>\r\n      </g>\r\n     </g>\r\n    </g>\r\n   </g>\r\n   <g id=\"matplotlib.axis_2\">\r\n    <g id=\"ytick_1\">\r\n     <g id=\"line2d_7\">\r\n      <defs>\r\n       <path d=\"M 0 0 \r\nL -3.5 0 \r\n\" id=\"m6ccfec3c29\" style=\"stroke:#000000;stroke-width:0.8;\"/>\r\n      </defs>\r\n      <g>\r\n       <use style=\"stroke:#000000;stroke-width:0.8;\" x=\"39.65\" xlink:href=\"#m6ccfec3c29\" y=\"216.517521\"/>\r\n      </g>\r\n     </g>\r\n     <g id=\"text_7\">\r\n      <!-- 0 -->\r\n      <g transform=\"translate(26.2875 220.31674)scale(0.1 -0.1)\">\r\n       <use xlink:href=\"#DejaVuSans-48\"/>\r\n      </g>\r\n     </g>\r\n    </g>\r\n    <g id=\"ytick_2\">\r\n     <g id=\"line2d_8\">\r\n      <g>\r\n       <use style=\"stroke:#000000;stroke-width:0.8;\" x=\"39.65\" xlink:href=\"#m6ccfec3c29\" y=\"179.268302\"/>\r\n      </g>\r\n     </g>\r\n     <g id=\"text_8\">\r\n      <!-- 500 -->\r\n      <g transform=\"translate(13.5625 183.06752)scale(0.1 -0.1)\">\r\n       <use xlink:href=\"#DejaVuSans-53\"/>\r\n       <use x=\"63.623047\" xlink:href=\"#DejaVuSans-48\"/>\r\n       <use x=\"127.246094\" xlink:href=\"#DejaVuSans-48\"/>\r\n      </g>\r\n     </g>\r\n    </g>\r\n    <g id=\"ytick_3\">\r\n     <g id=\"line2d_9\">\r\n      <g>\r\n       <use style=\"stroke:#000000;stroke-width:0.8;\" x=\"39.65\" xlink:href=\"#m6ccfec3c29\" y=\"142.019082\"/>\r\n      </g>\r\n     </g>\r\n     <g id=\"text_9\">\r\n      <!-- 1000 -->\r\n      <g transform=\"translate(7.2 145.818301)scale(0.1 -0.1)\">\r\n       <use xlink:href=\"#DejaVuSans-49\"/>\r\n       <use x=\"63.623047\" xlink:href=\"#DejaVuSans-48\"/>\r\n       <use x=\"127.246094\" xlink:href=\"#DejaVuSans-48\"/>\r\n       <use x=\"190.869141\" xlink:href=\"#DejaVuSans-48\"/>\r\n      </g>\r\n     </g>\r\n    </g>\r\n    <g id=\"ytick_4\">\r\n     <g id=\"line2d_10\">\r\n      <g>\r\n       <use style=\"stroke:#000000;stroke-width:0.8;\" x=\"39.65\" xlink:href=\"#m6ccfec3c29\" y=\"104.769863\"/>\r\n      </g>\r\n     </g>\r\n     <g id=\"text_10\">\r\n      <!-- 1500 -->\r\n      <g transform=\"translate(7.2 108.569082)scale(0.1 -0.1)\">\r\n       <use xlink:href=\"#DejaVuSans-49\"/>\r\n       <use x=\"63.623047\" xlink:href=\"#DejaVuSans-53\"/>\r\n       <use x=\"127.246094\" xlink:href=\"#DejaVuSans-48\"/>\r\n       <use x=\"190.869141\" xlink:href=\"#DejaVuSans-48\"/>\r\n      </g>\r\n     </g>\r\n    </g>\r\n    <g id=\"ytick_5\">\r\n     <g id=\"line2d_11\">\r\n      <g>\r\n       <use style=\"stroke:#000000;stroke-width:0.8;\" x=\"39.65\" xlink:href=\"#m6ccfec3c29\" y=\"67.520644\"/>\r\n      </g>\r\n     </g>\r\n     <g id=\"text_11\">\r\n      <!-- 2000 -->\r\n      <g transform=\"translate(7.2 71.319862)scale(0.1 -0.1)\">\r\n       <use xlink:href=\"#DejaVuSans-50\"/>\r\n       <use x=\"63.623047\" xlink:href=\"#DejaVuSans-48\"/>\r\n       <use x=\"127.246094\" xlink:href=\"#DejaVuSans-48\"/>\r\n       <use x=\"190.869141\" xlink:href=\"#DejaVuSans-48\"/>\r\n      </g>\r\n     </g>\r\n    </g>\r\n    <g id=\"ytick_6\">\r\n     <g id=\"line2d_12\">\r\n      <g>\r\n       <use style=\"stroke:#000000;stroke-width:0.8;\" x=\"39.65\" xlink:href=\"#m6ccfec3c29\" y=\"30.271424\"/>\r\n      </g>\r\n     </g>\r\n     <g id=\"text_12\">\r\n      <!-- 2500 -->\r\n      <g transform=\"translate(7.2 34.070643)scale(0.1 -0.1)\">\r\n       <use xlink:href=\"#DejaVuSans-50\"/>\r\n       <use x=\"63.623047\" xlink:href=\"#DejaVuSans-53\"/>\r\n       <use x=\"127.246094\" xlink:href=\"#DejaVuSans-48\"/>\r\n       <use x=\"190.869141\" xlink:href=\"#DejaVuSans-48\"/>\r\n      </g>\r\n     </g>\r\n    </g>\r\n   </g>\r\n   <g id=\"line2d_13\">\r\n    <path clip-path=\"url(#pa8fca1159d)\" d=\"M 54.868182 17.083636 \r\nL 55.478129 37.346411 \r\nL 56.088076 53.672173 \r\nL 56.698023 66.461996 \r\nL 57.30797 76.279985 \r\nL 57.917918 83.370705 \r\nL 58.527865 87.607749 \r\nL 59.137812 89.969964 \r\nL 59.747759 91.410289 \r\nL 60.357706 92.451039 \r\nL 61.577601 94.003456 \r\nL 65.847231 99.001145 \r\nL 74.996438 110.160214 \r\nL 77.436227 112.939219 \r\nL 92.684906 130.290962 \r\nL 95.124695 132.922379 \r\nL 96.344589 134.225411 \r\nL 99.394325 137.340859 \r\nL 101.834114 139.880608 \r\nL 103.663955 141.860127 \r\nL 109.15348 147.637258 \r\nL 110.983321 149.722068 \r\nL 112.813163 151.500086 \r\nL 114.033057 152.598956 \r\nL 118.912634 157.374718 \r\nL 120.742476 159.115487 \r\nL 123.182265 161.466121 \r\nL 131.111578 168.568345 \r\nL 146.360257 180.947647 \r\nL 147.580151 181.848265 \r\nL 151.849781 185.235184 \r\nL 156.119412 188.141691 \r\nL 168.318355 195.768655 \r\nL 178.07751 200.942138 \r\nL 187.226717 205.025189 \r\nL 188.446611 205.483641 \r\nL 190.8864 206.474886 \r\nL 200.035608 209.548678 \r\nL 202.475396 210.145743 \r\nL 205.525132 210.912559 \r\nL 209.184815 211.6829 \r\nL 214.064392 212.579904 \r\nL 221.993706 213.680824 \r\nL 234.802596 214.452509 \r\nL 255.5408 214.724999 \r\nL 259.200483 214.721017 \r\nL 271.399426 214.732884 \r\nL 288.477947 214.735223 \r\nL 301.286837 214.741195 \r\nL 312.265886 214.733077 \r\nL 327.514565 214.74653 \r\nL 332.394143 214.73457 \r\nL 339.103562 214.743161 \r\nL 359.231818 214.744826 \r\nL 359.231818 214.744826 \r\n\" style=\"fill:none;stroke:#1f77b4;stroke-linecap:square;stroke-width:1.5;\"/>\r\n   </g>\r\n   <g id=\"patch_3\">\r\n    <path d=\"M 39.65 224.64 \r\nL 39.65 7.2 \r\n\" style=\"fill:none;stroke:#000000;stroke-linecap:square;stroke-linejoin:miter;stroke-width:0.8;\"/>\r\n   </g>\r\n   <g id=\"patch_4\">\r\n    <path d=\"M 374.45 224.64 \r\nL 374.45 7.2 \r\n\" style=\"fill:none;stroke:#000000;stroke-linecap:square;stroke-linejoin:miter;stroke-width:0.8;\"/>\r\n   </g>\r\n   <g id=\"patch_5\">\r\n    <path d=\"M 39.65 224.64 \r\nL 374.45 224.64 \r\n\" style=\"fill:none;stroke:#000000;stroke-linecap:square;stroke-linejoin:miter;stroke-width:0.8;\"/>\r\n   </g>\r\n   <g id=\"patch_6\">\r\n    <path d=\"M 39.65 7.2 \r\nL 374.45 7.2 \r\n\" style=\"fill:none;stroke:#000000;stroke-linecap:square;stroke-linejoin:miter;stroke-width:0.8;\"/>\r\n   </g>\r\n   <g id=\"legend_1\">\r\n    <g id=\"patch_7\">\r\n     <path d=\"M 316.134375 29.878125 \r\nL 367.45 29.878125 \r\nQ 369.45 29.878125 369.45 27.878125 \r\nL 369.45 14.2 \r\nQ 369.45 12.2 367.45 12.2 \r\nL 316.134375 12.2 \r\nQ 314.134375 12.2 314.134375 14.2 \r\nL 314.134375 27.878125 \r\nQ 314.134375 29.878125 316.134375 29.878125 \r\nz\r\n\" style=\"fill:#ffffff;opacity:0.8;stroke:#cccccc;stroke-linejoin:miter;\"/>\r\n    </g>\r\n    <g id=\"line2d_14\">\r\n     <path d=\"M 318.134375 20.298437 \r\nL 338.134375 20.298437 \r\n\" style=\"fill:none;stroke:#1f77b4;stroke-linecap:square;stroke-width:1.5;\"/>\r\n    </g>\r\n    <g id=\"line2d_15\"/>\r\n    <g id=\"text_13\">\r\n     <!-- loss -->\r\n     <defs>\r\n      <path d=\"M 9.421875 75.984375 \r\nL 18.40625 75.984375 \r\nL 18.40625 0 \r\nL 9.421875 0 \r\nz\r\n\" id=\"DejaVuSans-108\"/>\r\n      <path d=\"M 30.609375 48.390625 \r\nQ 23.390625 48.390625 19.1875 42.75 \r\nQ 14.984375 37.109375 14.984375 27.296875 \r\nQ 14.984375 17.484375 19.15625 11.84375 \r\nQ 23.34375 6.203125 30.609375 6.203125 \r\nQ 37.796875 6.203125 41.984375 11.859375 \r\nQ 46.1875 17.53125 46.1875 27.296875 \r\nQ 46.1875 37.015625 41.984375 42.703125 \r\nQ 37.796875 48.390625 30.609375 48.390625 \r\nz\r\nM 30.609375 56 \r\nQ 42.328125 56 49.015625 48.375 \r\nQ 55.71875 40.765625 55.71875 27.296875 \r\nQ 55.71875 13.875 49.015625 6.21875 \r\nQ 42.328125 -1.421875 30.609375 -1.421875 \r\nQ 18.84375 -1.421875 12.171875 6.21875 \r\nQ 5.515625 13.875 5.515625 27.296875 \r\nQ 5.515625 40.765625 12.171875 48.375 \r\nQ 18.84375 56 30.609375 56 \r\nz\r\n\" id=\"DejaVuSans-111\"/>\r\n      <path d=\"M 44.28125 53.078125 \r\nL 44.28125 44.578125 \r\nQ 40.484375 46.53125 36.375 47.5 \r\nQ 32.28125 48.484375 27.875 48.484375 \r\nQ 21.1875 48.484375 17.84375 46.4375 \r\nQ 14.5 44.390625 14.5 40.28125 \r\nQ 14.5 37.15625 16.890625 35.375 \r\nQ 19.28125 33.59375 26.515625 31.984375 \r\nL 29.59375 31.296875 \r\nQ 39.15625 29.25 43.1875 25.515625 \r\nQ 47.21875 21.78125 47.21875 15.09375 \r\nQ 47.21875 7.46875 41.1875 3.015625 \r\nQ 35.15625 -1.421875 24.609375 -1.421875 \r\nQ 20.21875 -1.421875 15.453125 -0.5625 \r\nQ 10.6875 0.296875 5.421875 2 \r\nL 5.421875 11.28125 \r\nQ 10.40625 8.6875 15.234375 7.390625 \r\nQ 20.0625 6.109375 24.8125 6.109375 \r\nQ 31.15625 6.109375 34.5625 8.28125 \r\nQ 37.984375 10.453125 37.984375 14.40625 \r\nQ 37.984375 18.0625 35.515625 20.015625 \r\nQ 33.0625 21.96875 24.703125 23.78125 \r\nL 21.578125 24.515625 \r\nQ 13.234375 26.265625 9.515625 29.90625 \r\nQ 5.8125 33.546875 5.8125 39.890625 \r\nQ 5.8125 47.609375 11.28125 51.796875 \r\nQ 16.75 56 26.8125 56 \r\nQ 31.78125 56 36.171875 55.265625 \r\nQ 40.578125 54.546875 44.28125 53.078125 \r\nz\r\n\" id=\"DejaVuSans-115\"/>\r\n     </defs>\r\n     <g transform=\"translate(346.134375 23.798437)scale(0.1 -0.1)\">\r\n      <use xlink:href=\"#DejaVuSans-108\"/>\r\n      <use x=\"27.783203\" xlink:href=\"#DejaVuSans-111\"/>\r\n      <use x=\"88.964844\" xlink:href=\"#DejaVuSans-115\"/>\r\n      <use x=\"141.064453\" xlink:href=\"#DejaVuSans-115\"/>\r\n     </g>\r\n    </g>\r\n   </g>\r\n  </g>\r\n </g>\r\n <defs>\r\n  <clipPath id=\"pa8fca1159d\">\r\n   <rect height=\"217.44\" width=\"334.8\" x=\"39.65\" y=\"7.2\"/>\r\n  </clipPath>\r\n </defs>\r\n</svg>\r\n",
      "image/png": "[encoded data removed]"
     },
     "metadata": {
      "needs_background": "light"
     }
    }
   ],
   "source": [
    "loss_df.plot()"
   ]
  },
  {
   "cell_type": "code",
   "execution_count": 44,
   "metadata": {},
   "outputs": [
    {
     "output_type": "execute_result",
     "data": {
      "text/plain": "24.95818519592285"
     },
     "metadata": {},
     "execution_count": 44
    }
   ],
   "source": [
    "model.evaluate(X_test,y_test,verbose=0)"
   ]
  },
  {
   "cell_type": "code",
   "execution_count": 45,
   "metadata": {},
   "outputs": [
    {
     "output_type": "execute_result",
     "data": {
      "text/plain": "23.813100814819336"
     },
     "metadata": {},
     "execution_count": 45
    }
   ],
   "source": [
    "model.evaluate(X_train,y_train, verbose=0)"
   ]
  },
  {
   "cell_type": "code",
   "execution_count": 46,
   "metadata": {},
   "outputs": [],
   "source": [
    "test_predictions = model.predict(X_test)"
   ]
  },
  {
   "cell_type": "code",
   "execution_count": 48,
   "metadata": {},
   "outputs": [],
   "source": [
    "test_predictions = pd.Series(test_predictions.reshape(300,))"
   ]
  },
  {
   "cell_type": "code",
   "execution_count": 60,
   "metadata": {},
   "outputs": [],
   "source": [
    "pred_df = pd.DataFrame(y_test, columns=['Test True Y'])"
   ]
  },
  {
   "cell_type": "code",
   "execution_count": 61,
   "metadata": {},
   "outputs": [],
   "source": [
    "pred_df = pd.concat([pred_df, test_predictions], axis=1)"
   ]
  },
  {
   "cell_type": "code",
   "execution_count": 62,
   "metadata": {},
   "outputs": [],
   "source": [
    "pred_df.columns = ['Test True Y', 'Model Predictions']"
   ]
  },
  {
   "cell_type": "code",
   "execution_count": 64,
   "metadata": {},
   "outputs": [
    {
     "output_type": "execute_result",
     "data": {
      "text/plain": "     Test True Y  Model Predictions\n0     402.296319         405.267914\n1     624.156198         623.632080\n2     582.455066         592.211670\n3     578.588606         572.283142\n4     371.224104         366.557770\n..           ...                ...\n295   525.704657         529.080505\n296   502.909473         515.339966\n297   612.727910         609.738770\n298   417.569725         416.947205\n299   410.538250         410.850525\n\n[300 rows x 2 columns]",
      "text/html": "<div>\n<style scoped>\n    .dataframe tbody tr th:only-of-type {\n        vertical-align: middle;\n    }\n\n    .dataframe tbody tr th {\n        vertical-align: top;\n    }\n\n    .dataframe thead th {\n        text-align: right;\n    }\n</style>\n<table border=\"1\" class=\"dataframe\">\n  <thead>\n    <tr style=\"text-align: right;\">\n      <th></th>\n      <th>Test True Y</th>\n      <th>Model Predictions</th>\n    </tr>\n  </thead>\n  <tbody>\n    <tr>\n      <th>0</th>\n      <td>402.296319</td>\n      <td>405.267914</td>\n    </tr>\n    <tr>\n      <th>1</th>\n      <td>624.156198</td>\n      <td>623.632080</td>\n    </tr>\n    <tr>\n      <th>2</th>\n      <td>582.455066</td>\n      <td>592.211670</td>\n    </tr>\n    <tr>\n      <th>3</th>\n      <td>578.588606</td>\n      <td>572.283142</td>\n    </tr>\n    <tr>\n      <th>4</th>\n      <td>371.224104</td>\n      <td>366.557770</td>\n    </tr>\n    <tr>\n      <th>...</th>\n      <td>...</td>\n      <td>...</td>\n    </tr>\n    <tr>\n      <th>295</th>\n      <td>525.704657</td>\n      <td>529.080505</td>\n    </tr>\n    <tr>\n      <th>296</th>\n      <td>502.909473</td>\n      <td>515.339966</td>\n    </tr>\n    <tr>\n      <th>297</th>\n      <td>612.727910</td>\n      <td>609.738770</td>\n    </tr>\n    <tr>\n      <th>298</th>\n      <td>417.569725</td>\n      <td>416.947205</td>\n    </tr>\n    <tr>\n      <th>299</th>\n      <td>410.538250</td>\n      <td>410.850525</td>\n    </tr>\n  </tbody>\n</table>\n<p>300 rows × 2 columns</p>\n</div>"
     },
     "metadata": {},
     "execution_count": 64
    }
   ],
   "source": [
    "pred_df"
   ]
  },
  {
   "cell_type": "code",
   "execution_count": 65,
   "metadata": {},
   "outputs": [],
   "source": [
    "from sklearn.metrics import mean_absolute_error, mean_squared_error"
   ]
  },
  {
   "cell_type": "code",
   "execution_count": 66,
   "metadata": {},
   "outputs": [
    {
     "output_type": "execute_result",
     "data": {
      "text/plain": "4.000111960261028"
     },
     "metadata": {},
     "execution_count": 66
    }
   ],
   "source": [
    "mean_absolute_error(pred_df['Test True Y'], pred_df['Model Predictions'])"
   ]
  },
  {
   "cell_type": "code",
   "execution_count": 68,
   "metadata": {},
   "outputs": [
    {
     "output_type": "execute_result",
     "data": {
      "text/plain": "24.958189412534693"
     },
     "metadata": {},
     "execution_count": 68
    }
   ],
   "source": [
    "mean_squared_error(pred_df['Test True Y'], pred_df['Model Predictions'])"
   ]
  },
  {
   "cell_type": "code",
   "execution_count": 69,
   "metadata": {},
   "outputs": [],
   "source": [
    "new_gem = [[998, 1000]]"
   ]
  },
  {
   "cell_type": "code",
   "execution_count": 70,
   "metadata": {},
   "outputs": [],
   "source": [
    "new_gem = scaler.transform(new_gem)"
   ]
  },
  {
   "cell_type": "code",
   "execution_count": 71,
   "metadata": {},
   "outputs": [
    {
     "output_type": "execute_result",
     "data": {
      "text/plain": "array([[419.65683]], dtype=float32)"
     },
     "metadata": {},
     "execution_count": 71
    }
   ],
   "source": [
    "model.predict(new_gem)"
   ]
  },
  {
   "cell_type": "code",
   "execution_count": 72,
   "metadata": {},
   "outputs": [],
   "source": [
    "from tensorflow.keras.models import load_model"
   ]
  },
  {
   "cell_type": "code",
   "execution_count": 73,
   "metadata": {},
   "outputs": [],
   "source": [
    "model.save('demoANN.h5')"
   ]
  },
  {
   "cell_type": "code",
   "execution_count": 74,
   "metadata": {},
   "outputs": [],
   "source": [
    "later_model = load_model('demoANN.h5')"
   ]
  },
  {
   "cell_type": "code",
   "execution_count": 75,
   "metadata": {},
   "outputs": [
    {
     "output_type": "execute_result",
     "data": {
      "text/plain": "array([[419.65683]], dtype=float32)"
     },
     "metadata": {},
     "execution_count": 75
    }
   ],
   "source": [
    "later_model.predict(new_gem)"
   ]
  },
  {
   "cell_type": "code",
   "execution_count": null,
   "metadata": {},
   "outputs": [],
   "source": []
  }
 ],
 "metadata": {
  "language_info": {
   "codemirror_mode": {
    "name": "ipython",
    "version": 3
   },
   "file_extension": ".py",
   "mimetype": "text/x-python",
   "name": "python",
   "nbconvert_exporter": "python",
   "pygments_lexer": "ipython3",
   "version": "3.7.4-final"
  },
  "orig_nbformat": 2,
  "kernelspec": {
   "name": "myenv",
   "display_name": "myenv"
  }
 },
 "nbformat": 4,
 "nbformat_minor": 2
}