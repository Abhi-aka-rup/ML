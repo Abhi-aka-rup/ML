{
 "cells": [
  {
   "cell_type": "code",
   "execution_count": 1,
   "metadata": {},
   "outputs": [],
   "source": [
    "import pandas as pd\n",
    "import numpy as np\n",
    "import matplotlib.pyplot as plt"
   ]
  },
  {
   "cell_type": "code",
   "execution_count": 2,
   "metadata": {},
   "outputs": [],
   "source": [
    "df = pd.read_csv('cancer_classification.csv')"
   ]
  },
  {
   "cell_type": "code",
   "execution_count": 3,
   "metadata": {},
   "outputs": [],
   "source": [
    "X = df.drop('benign_0__mal_1', axis=1).values\n",
    "y = df['benign_0__mal_1'].values"
   ]
  },
  {
   "cell_type": "code",
   "execution_count": 4,
   "metadata": {},
   "outputs": [],
   "source": [
    "from sklearn.model_selection import train_test_split"
   ]
  },
  {
   "cell_type": "code",
   "execution_count": 5,
   "metadata": {},
   "outputs": [],
   "source": [
    "X_train, X_test, y_train, y_test = train_test_split(X, y, test_size=0.25, random_state=101)"
   ]
  },
  {
   "cell_type": "code",
   "execution_count": 6,
   "metadata": {},
   "outputs": [],
   "source": [
    "from sklearn.preprocessing import MinMaxScaler"
   ]
  },
  {
   "cell_type": "code",
   "execution_count": 7,
   "metadata": {},
   "outputs": [],
   "source": [
    "scaler = MinMaxScaler()"
   ]
  },
  {
   "cell_type": "code",
   "execution_count": 8,
   "metadata": {},
   "outputs": [],
   "source": [
    "X_train = scaler.fit_transform(X_train)"
   ]
  },
  {
   "cell_type": "code",
   "execution_count": 9,
   "metadata": {},
   "outputs": [],
   "source": [
    "X_test = scaler.transform(X_test)"
   ]
  },
  {
   "cell_type": "code",
   "execution_count": 10,
   "metadata": {},
   "outputs": [],
   "source": [
    "import tensorflow as tf\n",
    "from tensorflow.keras.models import Sequential\n",
    "from tensorflow.keras.layers import Dense, Dropout, Activation"
   ]
  },
  {
   "cell_type": "code",
   "execution_count": 11,
   "metadata": {},
   "outputs": [],
   "source": [
    "from tensorflow.keras.callbacks import EarlyStopping, TensorBoard"
   ]
  },
  {
   "cell_type": "code",
   "execution_count": 12,
   "metadata": {},
   "outputs": [],
   "source": [
    "early_stop = EarlyStopping(monitor='val_loss', mode='min', verbose=1, patience=25)"
   ]
  },
  {
   "cell_type": "code",
   "execution_count": 13,
   "metadata": {},
   "outputs": [
    {
     "data": {
      "text/plain": [
       "'F:\\\\Coding\\\\Python\\\\Learning ML\\\\ANN'"
      ]
     },
     "execution_count": 13,
     "metadata": {},
     "output_type": "execute_result"
    }
   ],
   "source": [
    "pwd"
   ]
  },
  {
   "cell_type": "code",
   "execution_count": 14,
   "metadata": {},
   "outputs": [],
   "source": [
    "log_directory = 'logs\\\\fit'\n",
    "\n",
    "#timestamp = datetime.now().strftime(\"%Y-%m-%d--%H%M\")\n",
    "#log_directory = log_directory + \"\\\\\" + timestamp\n",
    "\n",
    "board = TensorBoard(log_dir=log_directory, histogram_freq=1, write_graph=True, write_images=True, update_freq='epoch', profile_batch=2, embeddings_freq=1)"
   ]
  },
  {
   "cell_type": "code",
   "execution_count": 15,
   "metadata": {},
   "outputs": [],
   "source": [
    "model = Sequential()\n",
    "\n",
    "model.add(Dense(30, activation='relu'))\n",
    "model.add(Dropout(0.5))\n",
    "model.add(Dense(15, activation='relu'))\n",
    "model.add(Dropout(0.5))\n",
    "model.add(Dense(1, activation='sigmoid'))\n",
    "model.compile(loss='binary_crossentropy', optimizer='adam')"
   ]
  },
  {
   "cell_type": "code",
   "execution_count": null,
   "metadata": {
    "tags": []
   },
   "outputs": [
    {
     "name": "stdout",
     "output_type": "stream",
     "text": [
      "Epoch 1/600\n",
      " 2/14 [===>..........................] - ETA: 7s - loss: 0.6846WARNING:tensorflow:Method (on_train_batch_end) is slow compared to the batch update (0.624857). Check your callbacks.\n",
      "14/14 [==============================] - 3s 193ms/step - loss: 0.6789 - val_loss: 0.6667\n",
      "Epoch 2/600\n",
      "14/14 [==============================] - 1s 74ms/step - loss: 0.6576 - val_loss: 0.6362\n",
      "Epoch 3/600\n",
      "14/14 [==============================] - 1s 68ms/step - loss: 0.6203 - val_loss: 0.6052\n",
      "Epoch 4/600\n",
      "14/14 [==============================] - 1s 64ms/step - loss: 0.6174 - val_loss: 0.5762\n",
      "Epoch 5/600\n",
      "14/14 [==============================] - 1s 69ms/step - loss: 0.5755 - val_loss: 0.5443\n",
      "Epoch 6/600\n",
      "14/14 [==============================] - 1s 73ms/step - loss: 0.5740 - val_loss: 0.5168\n",
      "Epoch 7/600\n",
      "14/14 [==============================] - 1s 77ms/step - loss: 0.5358 - val_loss: 0.4817\n",
      "Epoch 8/600\n",
      "14/14 [==============================] - 1s 81ms/step - loss: 0.5216 - val_loss: 0.4533\n",
      "Epoch 9/600\n",
      "14/14 [==============================] - 1s 63ms/step - loss: 0.4988 - val_loss: 0.4359\n",
      "Epoch 10/600\n",
      "14/14 [==============================] - 1s 61ms/step - loss: 0.4750 - val_loss: 0.4033\n",
      "Epoch 11/600\n",
      "14/14 [==============================] - 1s 66ms/step - loss: 0.4553 - val_loss: 0.3747\n",
      "Epoch 12/600\n",
      "14/14 [==============================] - 1s 81ms/step - loss: 0.4485 - val_loss: 0.3534\n",
      "Epoch 13/600\n",
      "14/14 [==============================] - 1s 61ms/step - loss: 0.4362 - val_loss: 0.3340\n",
      "Epoch 14/600\n",
      "14/14 [==============================] - 1s 66ms/step - loss: 0.4188 - val_loss: 0.3145\n",
      "Epoch 15/600\n",
      "14/14 [==============================] - 1s 62ms/step - loss: 0.3911 - val_loss: 0.2975\n",
      "Epoch 16/600\n",
      "14/14 [==============================] - 1s 61ms/step - loss: 0.3606 - val_loss: 0.2792\n",
      "Epoch 17/600\n",
      "14/14 [==============================] - 1s 69ms/step - loss: 0.3564 - val_loss: 0.2640\n",
      "Epoch 18/600\n",
      "14/14 [==============================] - 1s 85ms/step - loss: 0.3512 - val_loss: 0.2515\n",
      "Epoch 19/600\n",
      "14/14 [==============================] - 1s 98ms/step - loss: 0.3586 - val_loss: 0.2449\n",
      "Epoch 20/600\n",
      "14/14 [==============================] - 1s 100ms/step - loss: 0.3422 - val_loss: 0.2371\n",
      "Epoch 21/600\n",
      "14/14 [==============================] - 1s 62ms/step - loss: 0.3281 - val_loss: 0.2307\n",
      "Epoch 22/600\n",
      "14/14 [==============================] - 1s 60ms/step - loss: 0.3119 - val_loss: 0.2223\n",
      "Epoch 23/600\n",
      "14/14 [==============================] - 1s 70ms/step - loss: 0.3086 - val_loss: 0.2126\n",
      "Epoch 24/600\n",
      "14/14 [==============================] - 1s 72ms/step - loss: 0.3154 - val_loss: 0.2035\n",
      "Epoch 25/600\n",
      "14/14 [==============================] - 1s 72ms/step - loss: 0.2775 - val_loss: 0.1977\n",
      "Epoch 26/600\n",
      "14/14 [==============================] - 1s 84ms/step - loss: 0.2883 - val_loss: 0.1906\n",
      "Epoch 27/600\n",
      "14/14 [==============================] - 1s 73ms/step - loss: 0.2805 - val_loss: 0.1820\n",
      "Epoch 28/600\n",
      "14/14 [==============================] - 1s 67ms/step - loss: 0.2641 - val_loss: 0.1843\n",
      "Epoch 29/600\n",
      "14/14 [==============================] - 1s 59ms/step - loss: 0.2710 - val_loss: 0.1772\n",
      "Epoch 30/600\n",
      "14/14 [==============================] - 1s 66ms/step - loss: 0.2697 - val_loss: 0.1730\n",
      "Epoch 31/600\n",
      "14/14 [==============================] - 1s 68ms/step - loss: 0.2514 - val_loss: 0.1676\n",
      "Epoch 32/600\n",
      "14/14 [==============================] - 1s 61ms/step - loss: 0.2441 - val_loss: 0.1631\n",
      "Epoch 33/600\n",
      "14/14 [==============================] - 1s 66ms/step - loss: 0.2311 - val_loss: 0.1647\n",
      "Epoch 34/600\n",
      "14/14 [==============================] - 1s 66ms/step - loss: 0.2415 - val_loss: 0.1541\n",
      "Epoch 35/600\n",
      "14/14 [==============================] - 1s 68ms/step - loss: 0.2330 - val_loss: 0.1518\n",
      "Epoch 36/600\n",
      "14/14 [==============================] - 1s 64ms/step - loss: 0.2199 - val_loss: 0.1524\n",
      "Epoch 37/600\n",
      "14/14 [==============================] - 1s 74ms/step - loss: 0.2413 - val_loss: 0.1463\n",
      "Epoch 38/600\n",
      "14/14 [==============================] - 1s 83ms/step - loss: 0.1995 - val_loss: 0.1458\n",
      "Epoch 39/600\n",
      "14/14 [==============================] - 1s 96ms/step - loss: 0.2086 - val_loss: 0.1396\n",
      "Epoch 40/600\n",
      "14/14 [==============================] - 1s 90ms/step - loss: 0.2350 - val_loss: 0.1420\n",
      "Epoch 41/600\n",
      "14/14 [==============================] - 1s 80ms/step - loss: 0.2100 - val_loss: 0.1437\n",
      "Epoch 42/600\n",
      "14/14 [==============================] - 1s 75ms/step - loss: 0.1985 - val_loss: 0.1353\n",
      "Epoch 43/600\n",
      "14/14 [==============================] - 1s 67ms/step - loss: 0.2073 - val_loss: 0.1367\n",
      "Epoch 44/600\n",
      "14/14 [==============================] - 1s 63ms/step - loss: 0.1895 - val_loss: 0.1350\n",
      "Epoch 45/600\n",
      "14/14 [==============================] - 1s 71ms/step - loss: 0.1743 - val_loss: 0.1353\n",
      "Epoch 46/600\n",
      "14/14 [==============================] - 1s 60ms/step - loss: 0.1641 - val_loss: 0.1257\n",
      "Epoch 47/600\n",
      "14/14 [==============================] - 1s 69ms/step - loss: 0.2097 - val_loss: 0.1296\n",
      "Epoch 48/600\n",
      "14/14 [==============================] - 1s 78ms/step - loss: 0.1637 - val_loss: 0.1249\n",
      "Epoch 49/600\n",
      "14/14 [==============================] - 1s 64ms/step - loss: 0.1744 - val_loss: 0.1228\n",
      "Epoch 50/600\n",
      "14/14 [==============================] - 1s 68ms/step - loss: 0.1634 - val_loss: 0.1216\n",
      "Epoch 51/600\n",
      "14/14 [==============================] - 1s 68ms/step - loss: 0.2014 - val_loss: 0.1295\n",
      "Epoch 52/600\n",
      "14/14 [==============================] - 1s 68ms/step - loss: 0.1699 - val_loss: 0.1191\n",
      "Epoch 53/600\n",
      "14/14 [==============================] - 1s 74ms/step - loss: 0.1682 - val_loss: 0.1194\n",
      "Epoch 54/600\n",
      "14/14 [==============================] - 1s 67ms/step - loss: 0.1733 - val_loss: 0.1200\n",
      "Epoch 55/600\n",
      "14/14 [==============================] - 1s 67ms/step - loss: 0.1827 - val_loss: 0.1176\n",
      "Epoch 56/600\n",
      "14/14 [==============================] - 1s 61ms/step - loss: 0.1723 - val_loss: 0.1181\n",
      "Epoch 57/600\n",
      "14/14 [==============================] - 1s 80ms/step - loss: 0.1472 - val_loss: 0.1213\n",
      "Epoch 58/600\n",
      "14/14 [==============================] - 1s 60ms/step - loss: 0.1629 - val_loss: 0.1248\n",
      "Epoch 59/600\n",
      "14/14 [==============================] - 1s 57ms/step - loss: 0.1489 - val_loss: 0.1167\n",
      "Epoch 60/600\n",
      "14/14 [==============================] - 1s 61ms/step - loss: 0.1375 - val_loss: 0.1132\n",
      "Epoch 61/600\n",
      " 1/14 [=>............................] - ETA: 0s - loss: 0.1012"
     ]
    }
   ],
   "source": [
    "model.fit(x=X_train, y=y_train, epochs=600, validation_data=(X_test, y_test), verbose=1, callbacks=[early_stop, board])"
   ]
  },
  {
   "cell_type": "code",
   "execution_count": null,
   "metadata": {
    "tags": []
   },
   "outputs": [],
   "source": [
    "%load_ext tensorboard\n",
    "%tensorboard --logdir logs/fit"
   ]
  },
  {
   "cell_type": "code",
   "execution_count": null,
   "metadata": {},
   "outputs": [],
   "source": []
  }
 ],
 "metadata": {
  "kernelspec": {
   "display_name": "myenv",
   "language": "python",
   "name": "myenv"
  },
  "language_info": {
   "codemirror_mode": {
    "name": "ipython",
    "version": 3
   },
   "file_extension": ".py",
   "mimetype": "text/x-python",
   "name": "python",
   "nbconvert_exporter": "python",
   "pygments_lexer": "ipython3",
   "version": "3.7.4"
  }
 },
 "nbformat": 4,
 "nbformat_minor": 2
}
